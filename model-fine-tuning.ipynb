{
 "cells": [
  {
   "cell_type": "markdown",
   "id": "2097f7b8",
   "metadata": {},
   "source": [
    "# Fine-tuning"
   ]
  },
  {
   "cell_type": "markdown",
   "id": "fa98e3ba",
   "metadata": {},
   "source": [
    "Now that you've seen the power of Transformers models in many different forms, we're going to dig deeper with the HuggingFace library and focus a little more on understanding what is going on, and how we can use these models to improve on techniques we saw yesterday and last week. To that end, let's consider a task we've seen before - sentiment classification. "
   ]
  },
  {
   "cell_type": "markdown",
   "id": "679dd923",
   "metadata": {},
   "source": [
    "### The Data"
   ]
  },
  {
   "cell_type": "markdown",
   "id": "cb58d30b",
   "metadata": {},
   "source": [
    "To get started, we're going to load up this [csv](https://wagon-public-datasets.s3.amazonaws.com/imdb.csv) of 8000 IMDB reviews that we're going to be using throughout this exercise."
   ]
  },
  {
   "cell_type": "markdown",
   "id": "cfe18f16",
   "metadata": {},
   "source": [
    "Once you've loaded it up, check what kind of data we're dealing with and take some time to look through some of the examples in the DataFrame. "
   ]
  },
  {
   "cell_type": "code",
   "execution_count": 9,
   "id": "384a2479",
   "metadata": {},
   "outputs": [],
   "source": [
    "import pandas as pd\n",
    "import matplotlib.pyplot as plt"
   ]
  },
  {
   "cell_type": "code",
   "execution_count": 10,
   "id": "c6d3b60b",
   "metadata": {},
   "outputs": [],
   "source": [
    "url= 'https://wagon-public-datasets.s3.amazonaws.com/imdb.csv'\n",
    "df= pd.read_csv(url)"
   ]
  },
  {
   "cell_type": "code",
   "execution_count": 11,
   "id": "b0bd6d5c",
   "metadata": {
    "scrolled": true
   },
   "outputs": [
    {
     "data": {
      "text/html": [
       "<div>\n",
       "<style scoped>\n",
       "    .dataframe tbody tr th:only-of-type {\n",
       "        vertical-align: middle;\n",
       "    }\n",
       "\n",
       "    .dataframe tbody tr th {\n",
       "        vertical-align: top;\n",
       "    }\n",
       "\n",
       "    .dataframe thead th {\n",
       "        text-align: right;\n",
       "    }\n",
       "</style>\n",
       "<table border=\"1\" class=\"dataframe\">\n",
       "  <thead>\n",
       "    <tr style=\"text-align: right;\">\n",
       "      <th></th>\n",
       "      <th>text</th>\n",
       "      <th>label</th>\n",
       "    </tr>\n",
       "  </thead>\n",
       "  <tbody>\n",
       "    <tr>\n",
       "      <th>0</th>\n",
       "      <td>Ouch! They don't come much worse than this hor...</td>\n",
       "      <td>0</td>\n",
       "    </tr>\n",
       "    <tr>\n",
       "      <th>1</th>\n",
       "      <td>Great little thriller. I was expecting some ty...</td>\n",
       "      <td>1</td>\n",
       "    </tr>\n",
       "    <tr>\n",
       "      <th>2</th>\n",
       "      <td>In this extremely low-budget ( I've seen home ...</td>\n",
       "      <td>0</td>\n",
       "    </tr>\n",
       "    <tr>\n",
       "      <th>3</th>\n",
       "      <td>I wouldn't say this is a *bad* movie. Unfortun...</td>\n",
       "      <td>0</td>\n",
       "    </tr>\n",
       "    <tr>\n",
       "      <th>4</th>\n",
       "      <td>What were they thinking at \"Cannes\"? One of th...</td>\n",
       "      <td>0</td>\n",
       "    </tr>\n",
       "  </tbody>\n",
       "</table>\n",
       "</div>"
      ],
      "text/plain": [
       "                                                text  label\n",
       "0  Ouch! They don't come much worse than this hor...      0\n",
       "1  Great little thriller. I was expecting some ty...      1\n",
       "2  In this extremely low-budget ( I've seen home ...      0\n",
       "3  I wouldn't say this is a *bad* movie. Unfortun...      0\n",
       "4  What were they thinking at \"Cannes\"? One of th...      0"
      ]
     },
     "execution_count": 11,
     "metadata": {},
     "output_type": "execute_result"
    }
   ],
   "source": [
    "df.head()"
   ]
  },
  {
   "cell_type": "code",
   "execution_count": 12,
   "id": "1249e25c",
   "metadata": {
    "scrolled": true
   },
   "outputs": [
    {
     "data": {
      "text/plain": [
       "'In this extremely low-budget ( I\\'ve seen home movies made with better production value) Australian utter rip-off of \"the Burning\" & \"Friday the 13th\", a band is planning to make a music video while on a houseboat. They\\'re stalked by a serial killer who was burned years before. This movie is even proclaimed to be \\'the worst Australian film ever made\\' in it\\'s DVD promotional material. That\\'s it\\'s only selling point! Complete and utter rubbish in every considerable way. Perhaps a few chuckles here and there for bad movie lovers, but it still made me want to burn out my retinas.<br /><br />Eye Candy: a quick flash of barely existent itty bitty titties in a lame shower scene<br /><br />My Grade: F'"
      ]
     },
     "execution_count": 12,
     "metadata": {},
     "output_type": "execute_result"
    }
   ],
   "source": [
    "df['text'][2]"
   ]
  },
  {
   "cell_type": "code",
   "execution_count": 13,
   "id": "aacc6fa9",
   "metadata": {},
   "outputs": [
    {
     "data": {
      "text/plain": [
       "<bound method DataFrame.info of                                                    text  label\n",
       "0     Ouch! They don't come much worse than this hor...      0\n",
       "1     Great little thriller. I was expecting some ty...      1\n",
       "2     In this extremely low-budget ( I've seen home ...      0\n",
       "3     I wouldn't say this is a *bad* movie. Unfortun...      0\n",
       "4     What were they thinking at \"Cannes\"? One of th...      0\n",
       "...                                                 ...    ...\n",
       "7995  I have walked out of very few movies before th...      0\n",
       "7996  This movie earned every one of the ten votes I...      1\n",
       "7997  I question the motive of the creators of this ...      0\n",
       "7998  There is something kind of sad about seeing so...      0\n",
       "7999  It as absolutely incredible to me that anyone ...      0\n",
       "\n",
       "[8000 rows x 2 columns]>"
      ]
     },
     "execution_count": 13,
     "metadata": {},
     "output_type": "execute_result"
    }
   ],
   "source": [
    "df.info"
   ]
  },
  {
   "cell_type": "markdown",
   "id": "19ed23ff",
   "metadata": {},
   "source": [
    "Plot a histogram of the lengths of each reviews so we can get a sense of how they are distributed"
   ]
  },
  {
   "cell_type": "code",
   "execution_count": 15,
   "id": "9cc4022c",
   "metadata": {},
   "outputs": [
    {
     "data": {
      "text/plain": [
       "142"
      ]
     },
     "execution_count": 15,
     "metadata": {},
     "output_type": "execute_result"
    }
   ],
   "source": [
    "len(df['text'][0].split())"
   ]
  },
  {
   "cell_type": "code",
   "execution_count": 17,
   "id": "fcccef1c",
   "metadata": {},
   "outputs": [
    {
     "data": {
      "text/plain": [
       "(-1.0, 1300.0)"
      ]
     },
     "execution_count": 17,
     "metadata": {},
     "output_type": "execute_result"
    },
    {
     "data": {
      "image/png": "[encoded data removed]",
      "text/plain": [
       "<Figure size 640x480 with 1 Axes>"
      ]
     },
     "metadata": {},
     "output_type": "display_data"
    }
   ],
   "source": [
    "lenght=[]\n",
    "for i in range(8000):\n",
    "    len_rev= len(df['text'][i].split())\n",
    "    lenght.append(len_rev)\n",
    "plt.hist(lenght)\n",
    "plt.xlim(-1,1300)"
   ]
  },
  {
   "cell_type": "markdown",
   "id": "cf8350c4",
   "metadata": {},
   "source": [
    "So - we have a lot of reviews - most around the 150-250 word length - and those reviews have a lot of messy punctiation. We could spend a very long time going through and tidying up our text, but the HuggingFace library provides us with `AutoTokenizers` that allow us to quickly and easily convert our text to tokens."
   ]
  },
  {
   "cell_type": "markdown",
   "id": "1b826f26",
   "metadata": {},
   "source": [
    "Throughout this notebook, we're going to be working with the `bert-tiny` model from HuggingFace as it's nice and small which means we won't be waiting around for hours for trainings to finish! Why mention this here? Well because it's really important that our __Tokenizer__ and our __model__ align! \n",
    "\n",
    "If we want to leverage pre-training, we need to convert our words to tokens and then pass them through the model in a way that our model has seen before. See the diagrams below to see why we need them to match. "
   ]
  },
  {
   "cell_type": "markdown",
   "id": "d41148c1",
   "metadata": {},
   "source": [
    "<img src = \"https://wagon-public-datasets.s3.amazonaws.com/data-science-images/lectures/Transformers/tok_emb.png\" width = 550px>"
   ]
  },
  {
   "cell_type": "markdown",
   "id": "c0329075",
   "metadata": {},
   "source": [
    "<img src = \"https://wagon-public-datasets.s3.amazonaws.com/data-science-images/lectures/Transformers/tok_emb_bad.png\" width = 550px>"
   ]
  },
  {
   "cell_type": "markdown",
   "id": "e9167b36",
   "metadata": {},
   "source": [
    "With that said, instantiate an `AutoTokenizer.from_pretrained()` from HuggingFace that corresponds to the `prajjwal1/bert-tiny` model. \n",
    "\n",
    "With HuggingFace, when we load in a tokenizer, if we want to pad to the left or right, we have to mention this when we load it. With BERT, we want our padding to be to the \"right\" (a.k.a. post-padding) so make sure you pass this key-word argument when you load your model (see the [docs](https://huggingface.co/docs/transformers/v4.33.0/en/model_doc/auto#transformers.AutoTokenizer.from_pretrained.example) for clues on this). Once you've got your tokenizer, use it to produce tokens for this example sentence: \n",
    "\n",
    "\"My tokenizers and model must match\""
   ]
  },
  {
   "cell_type": "code",
   "execution_count": 18,
   "id": "8869945f",
   "metadata": {},
   "outputs": [],
   "source": [
    "from transformers import AutoTokenizer, TFAutoModelForSeq2SeqLM"
   ]
  },
  {
   "cell_type": "code",
   "execution_count": 19,
   "id": "d18bd244",
   "metadata": {},
   "outputs": [],
   "source": [
    "tokenizer= AutoTokenizer.from_pretrained('prajjwal1/bert-tiny', padding_side='right')"
   ]
  },
  {
   "cell_type": "code",
   "execution_count": 20,
   "id": "de8e44a8",
   "metadata": {},
   "outputs": [
    {
     "name": "stderr",
     "output_type": "stream",
     "text": [
      "2024-02-11 16:29:53.560365: I tensorflow/core/platform/cpu_feature_guard.cc:193] This TensorFlow binary is optimized with oneAPI Deep Neural Network Library (oneDNN) to use the following CPU instructions in performance-critical operations:  AVX2 AVX512F AVX512_VNNI FMA\n",
      "To enable them in other operations, rebuild TensorFlow with the appropriate compiler flags.\n",
      "2024-02-11 16:29:54.140944: I tensorflow/core/util/util.cc:169] oneDNN custom operations are on. You may see slightly different numerical results due to floating-point round-off errors from different computation orders. To turn them off, set the environment variable `TF_ENABLE_ONEDNN_OPTS=0`.\n",
      "2024-02-11 16:29:54.264226: W tensorflow/stream_executor/platform/default/dso_loader.cc:64] Could not load dynamic library 'libcudart.so.11.0'; dlerror: libcudart.so.11.0: cannot open shared object file: No such file or directory\n",
      "2024-02-11 16:29:54.264248: I tensorflow/stream_executor/cuda/cudart_stub.cc:29] Ignore above cudart dlerror if you do not have a GPU set up on your machine.\n",
      "2024-02-11 16:29:54.338202: E tensorflow/stream_executor/cuda/cuda_blas.cc:2981] Unable to register cuBLAS factory: Attempting to register factory for plugin cuBLAS when one has already been registered\n",
      "2024-02-11 16:29:56.056812: W tensorflow/stream_executor/platform/default/dso_loader.cc:64] Could not load dynamic library 'libnvinfer.so.7'; dlerror: libnvinfer.so.7: cannot open shared object file: No such file or directory\n",
      "2024-02-11 16:29:56.056967: W tensorflow/stream_executor/platform/default/dso_loader.cc:64] Could not load dynamic library 'libnvinfer_plugin.so.7'; dlerror: libnvinfer_plugin.so.7: cannot open shared object file: No such file or directory\n",
      "2024-02-11 16:29:56.056974: W tensorflow/compiler/tf2tensorrt/utils/py_utils.cc:38] TF-TRT Warning: Cannot dlopen some TensorRT libraries. If you would like to use Nvidia GPU with TensorRT, please make sure the missing libraries mentioned above are installed properly.\n",
      "2024-02-11 16:29:58.359568: W tensorflow/stream_executor/platform/default/dso_loader.cc:64] Could not load dynamic library 'libcuda.so.1'; dlerror: libcuda.so.1: cannot open shared object file: No such file or directory\n",
      "2024-02-11 16:29:58.360200: W tensorflow/stream_executor/cuda/cuda_driver.cc:263] failed call to cuInit: UNKNOWN ERROR (303)\n",
      "2024-02-11 16:29:58.360241: I tensorflow/stream_executor/cuda/cuda_diagnostics.cc:156] kernel driver does not appear to be running on this host (DESKTOP-8OFTMTN): /proc/driver/nvidia/version does not exist\n",
      "2024-02-11 16:29:58.363990: I tensorflow/core/platform/cpu_feature_guard.cc:193] This TensorFlow binary is optimized with oneAPI Deep Neural Network Library (oneDNN) to use the following CPU instructions in performance-critical operations:  AVX2 AVX512F AVX512_VNNI FMA\n",
      "To enable them in other operations, rebuild TensorFlow with the appropriate compiler flags.\n"
     ]
    },
    {
     "data": {
      "text/plain": [
       "{'input_ids': <tf.Tensor: shape=(1, 10), dtype=int32, numpy=\n",
       "array([[  101,  2026, 19204, 17629,  2015,  1998,  2944,  2442,  2674,\n",
       "          102]], dtype=int32)>, 'token_type_ids': <tf.Tensor: shape=(1, 10), dtype=int32, numpy=array([[0, 0, 0, 0, 0, 0, 0, 0, 0, 0]], dtype=int32)>, 'attention_mask': <tf.Tensor: shape=(1, 10), dtype=int32, numpy=array([[1, 1, 1, 1, 1, 1, 1, 1, 1, 1]], dtype=int32)>}"
      ]
     },
     "execution_count": 20,
     "metadata": {},
     "output_type": "execute_result"
    }
   ],
   "source": [
    "tokens= tokenizer('My tokenizers and model must match', return_tensors='tf')\n",
    "tokens"
   ]
  },
  {
   "cell_type": "markdown",
   "id": "36b95ab9",
   "metadata": {},
   "source": [
    "To make the point about tokenizers and models needing to fit, run the cell below and see what tokens you get for exactly the same sentence."
   ]
  },
  {
   "cell_type": "code",
   "execution_count": 21,
   "id": "39e7b7ed",
   "metadata": {},
   "outputs": [
    {
     "data": {
      "text/plain": [
       "{'input_ids': [1, 1619, 5993, 19427, 322, 1904, 1818, 1993], 'attention_mask': [1, 1, 1, 1, 1, 1, 1, 1]}"
      ]
     },
     "execution_count": 21,
     "metadata": {},
     "output_type": "execute_result"
    }
   ],
   "source": [
    "llama_tokenizer = AutoTokenizer.from_pretrained(\"TheBloke/llama-2-70b-Guanaco-QLoRA-fp16\")\n",
    "\n",
    "llama_tokenizer(\"My tokenizers and model must match\")\n"
   ]
  },
  {
   "cell_type": "markdown",
   "id": "26e4306d",
   "metadata": {},
   "source": [
    "We see we get out totally different numbers for the `input_ids`!"
   ]
  },
  {
   "cell_type": "markdown",
   "id": "8c633375",
   "metadata": {},
   "source": [
    "Another thing you'll notice about __both__ tokenizers is that we get our more tokens than we put in. \n",
    "\n",
    "### Why? \n",
    "\n",
    "The BERT tokenizer (and many other tokenizers) breaks down input text into smaller units called subwords using \"WordPiece\" tokenization, enabling the model to handle complex words and capture meaningful subword representations. Loop through your BERT tokens and call the `.decode()` function on them one by one to see how it has broken up the original sentence."
   ]
  },
  {
   "cell_type": "code",
   "execution_count": 22,
   "id": "2c7b1969",
   "metadata": {
    "scrolled": true
   },
   "outputs": [
    {
     "ename": "TypeError",
     "evalue": "'tokenizers.Encoding' object is not iterable",
     "output_type": "error",
     "traceback": [
      "\u001b[0;31m---------------------------------------------------------------------------\u001b[0m",
      "\u001b[0;31mTypeError\u001b[0m                                 Traceback (most recent call last)",
      "Cell \u001b[0;32mIn [22], line 1\u001b[0m\n\u001b[0;32m----> 1\u001b[0m out\u001b[38;5;241m=\u001b[39m [tokenizer\u001b[38;5;241m.\u001b[39mdecode(token) \u001b[38;5;28;01mfor\u001b[39;00m token \u001b[38;5;129;01min\u001b[39;00m tokens[\u001b[38;5;241m0\u001b[39m]]\n\u001b[1;32m      2\u001b[0m out\n",
      "\u001b[0;31mTypeError\u001b[0m: 'tokenizers.Encoding' object is not iterable"
     ]
    }
   ],
   "source": [
    "out= [tokenizer.decode(token) for token in tokens[0]]\n",
    "out"
   ]
  },
  {
   "cell_type": "markdown",
   "id": "0eab901f",
   "metadata": {},
   "source": [
    "The tokenizer uses a predefined vocabulary of subwords, assigning each a unique token ID. It also introduces special tokens like `[CLS]` (shows up as 101) and `[SEP]` (shows up as 102) to mark the beginning and separation of sentences for the model. The tokenizer can also handle padding or truncation (cutting up our sentences for us!) so they're a vital part of our pipeline. You'll also see you get out some other keys in this dictionary - `token_type_ids` and `attention_mask` - but we won't worry about them too much for right now!"
   ]
  },
  {
   "cell_type": "markdown",
   "id": "4b7b5e07",
   "metadata": {},
   "source": [
    "So now that we have our sentences and our Tokenizer, let's try converting the first sentence in our `df` into tokens."
   ]
  },
  {
   "cell_type": "code",
   "execution_count": 24,
   "id": "984aecb5",
   "metadata": {},
   "outputs": [
    {
     "data": {
      "text/plain": [
       "{'input_ids': <tf.Tensor: shape=(1, 173), dtype=int32, numpy=\n",
       "array([[  101, 15068,  2818,   999,  2027,  2123,  1005,  1056,  2272,\n",
       "         2172,  4788,  2084,  2023,  7570, 18752,  2094,  6789,  1997,\n",
       "         1039,  1012,  1055,  1012,  4572,  1005,  1055, 11419,  3117,\n",
       "         1012,  2096,  1996,  6789,  2003,  2200,  2995,  2000,  1996,\n",
       "         3117,  1010,  1996,  3772,  2003,  3432,  9643,  1998,  1996,\n",
       "         4520,  1998,  2569,  3896,  2024,  2006,  1037,  4094,  5662,\n",
       "         2000,  1037,  2082,  2377,  1012,  1045,  1005,  2310,  3191,\n",
       "         2008,  1996,  5166,  2005,  2023, 13612,  2001,  1996,  9026,\n",
       "         3367,  2008,  1996,  4035,  2038,  2412,  2445,  2012,  1996,\n",
       "         2051,  1010,  2021,  7543,  2027,  2071,  2031, 20378,  2362,\n",
       "         1037,  2978,  2062,  2084,  1996,  1002,  1016,  2008,  2009,\n",
       "         3504,  2066,  2023,  2001,  6361,  2005,  1012,  1996,  5409,\n",
       "         3466,  1997,  2035,  2003,  2720,  1012, 13570,  1012,  1045,\n",
       "         2113,  3274,  3896,  4694,  1005,  1056,  2012,  1996,  2504,\n",
       "         4072,  2030,  2130,  3465,  4621,  2012,  1996,  2051,  1010,\n",
       "         2021,  1996,  9427,  3573,  2158,  1999,  1037,  4848,  2298,\n",
       "         2001,  7570, 18752,  2094,  1012,  2488,  2000,  2031,  2074,\n",
       "         3013,  1996,  2839,  2013,  1996,  2143,  2084,  2079,  2008,\n",
       "         2000,  1996,  2535,   999,  4468,  2023,  2012,  2035,  5366,\n",
       "         1012,   102]], dtype=int32)>, 'token_type_ids': <tf.Tensor: shape=(1, 173), dtype=int32, numpy=\n",
       "array([[0, 0, 0, 0, 0, 0, 0, 0, 0, 0, 0, 0, 0, 0, 0, 0, 0, 0, 0, 0, 0, 0,\n",
       "        0, 0, 0, 0, 0, 0, 0, 0, 0, 0, 0, 0, 0, 0, 0, 0, 0, 0, 0, 0, 0, 0,\n",
       "        0, 0, 0, 0, 0, 0, 0, 0, 0, 0, 0, 0, 0, 0, 0, 0, 0, 0, 0, 0, 0, 0,\n",
       "        0, 0, 0, 0, 0, 0, 0, 0, 0, 0, 0, 0, 0, 0, 0, 0, 0, 0, 0, 0, 0, 0,\n",
       "        0, 0, 0, 0, 0, 0, 0, 0, 0, 0, 0, 0, 0, 0, 0, 0, 0, 0, 0, 0, 0, 0,\n",
       "        0, 0, 0, 0, 0, 0, 0, 0, 0, 0, 0, 0, 0, 0, 0, 0, 0, 0, 0, 0, 0, 0,\n",
       "        0, 0, 0, 0, 0, 0, 0, 0, 0, 0, 0, 0, 0, 0, 0, 0, 0, 0, 0, 0, 0, 0,\n",
       "        0, 0, 0, 0, 0, 0, 0, 0, 0, 0, 0, 0, 0, 0, 0, 0, 0, 0, 0]],\n",
       "      dtype=int32)>, 'attention_mask': <tf.Tensor: shape=(1, 173), dtype=int32, numpy=\n",
       "array([[1, 1, 1, 1, 1, 1, 1, 1, 1, 1, 1, 1, 1, 1, 1, 1, 1, 1, 1, 1, 1, 1,\n",
       "        1, 1, 1, 1, 1, 1, 1, 1, 1, 1, 1, 1, 1, 1, 1, 1, 1, 1, 1, 1, 1, 1,\n",
       "        1, 1, 1, 1, 1, 1, 1, 1, 1, 1, 1, 1, 1, 1, 1, 1, 1, 1, 1, 1, 1, 1,\n",
       "        1, 1, 1, 1, 1, 1, 1, 1, 1, 1, 1, 1, 1, 1, 1, 1, 1, 1, 1, 1, 1, 1,\n",
       "        1, 1, 1, 1, 1, 1, 1, 1, 1, 1, 1, 1, 1, 1, 1, 1, 1, 1, 1, 1, 1, 1,\n",
       "        1, 1, 1, 1, 1, 1, 1, 1, 1, 1, 1, 1, 1, 1, 1, 1, 1, 1, 1, 1, 1, 1,\n",
       "        1, 1, 1, 1, 1, 1, 1, 1, 1, 1, 1, 1, 1, 1, 1, 1, 1, 1, 1, 1, 1, 1,\n",
       "        1, 1, 1, 1, 1, 1, 1, 1, 1, 1, 1, 1, 1, 1, 1, 1, 1, 1, 1]],\n",
       "      dtype=int32)>}"
      ]
     },
     "execution_count": 24,
     "metadata": {},
     "output_type": "execute_result"
    }
   ],
   "source": [
    "sentence1=df['text'][0]\n",
    "token_sent1= tokenizer(sentence1, return_tensors='tf')\n",
    "token_sent1"
   ]
  },
  {
   "cell_type": "markdown",
   "id": "1d753370",
   "metadata": {},
   "source": [
    "### So how can we use a BERT model?"
   ]
  },
  {
   "cell_type": "markdown",
   "id": "c2f568c0",
   "metadata": {},
   "source": [
    "Now that we've explored tokenization, we need to think about how we go from our tokens to somehow getting out a classification of \"positive\" or \"negative\" and to do that we need to talk about BERT. If you're looking for a great 10-minute explainer on BERT, you can't go wrong with [Jay Alammar's article](https://jalammar.github.io/illustrated-bert/). The high level view is essentially this, though:\n",
    "\n",
    "BERT gets trained via \"semi-supervised\" learning to predict the missing word in a sentence, looking both to its left and right as its context (hence it is named a \"bidirectional\" encoder). This means that it can see everything on either side of the masked word below.\n",
    "\n",
    "<img src = \"https://wagon-public-datasets.s3.amazonaws.com/data-science-images/lectures/Transformers/bert_workings.png\" width = 350px>\n",
    "\n"
   ]
  },
  {
   "cell_type": "markdown",
   "id": "73e4496b",
   "metadata": {},
   "source": [
    "Over time, BERT gets great at filling in the blank - in this case it learns that the word \"over\" should go here! Let's take a look at some architectures: \n",
    "\n",
    "<img src = https://wagon-public-datasets.s3.amazonaws.com/data-science-images/lectures/Transformers/13789bert_architecture.png width = 500px>\n",
    "\n",
    "It's literally just an encoder (or the left side of the model we covered in the lecture! GPT is the right side of the model). During training, they add a few Feed Forward layers and a Softmax layer to make the model try to predict the most likely word blanked out:\n",
    "\n",
    "\n",
    "<img src = https://wagon-public-datasets.s3.amazonaws.com/data-science-images/lectures/Transformers/transformers_enc_de_bert.png width = 600px>\n",
    "\n",
    "\n",
    "__\"But why does all of this matter? We're not trying to predict a next word here!\", you ask!__ Well, because through learning to fill in the blanks millions of times on large datasets, BERT gets a __really__ good understanding of what words mean and how sentences fit together and produces __fantastic, context-aware__ embeddings. \n",
    "\n",
    "\n",
    "\n",
    "<img src = https://wagon-public-datasets.s3.amazonaws.com/data-science-images/lectures/Transformers/bert_good_embeddings_2.png width = 400px>\n",
    "\n",
    "This is when BERT can become valuable to us - once it's been pre-trained - since we can now take those embedding and use them as __features__ for other tasks."
   ]
  },
  {
   "cell_type": "markdown",
   "id": "7d137711",
   "metadata": {},
   "source": [
    "So - now that you understand our goal - let's see how BERT works in practice."
   ]
  },
  {
   "cell_type": "markdown",
   "id": "9f685717",
   "metadata": {},
   "source": [
    "### Using BERT"
   ]
  },
  {
   "cell_type": "markdown",
   "id": "e87b037a",
   "metadata": {},
   "source": [
    "Use [`TFAutoModel`](https://huggingface.co/transformers/v3.0.2/model_doc/auto.html#tfautomodel) to load up a `tiny-bert` model. \n",
    "\n",
    "N.B. HuggingFace lets us load models that were coded in other Deep Learning libraries (like PyTorch), but if we want to use them like we would use a normal TF model, we can pass `from_pt = True`. "
   ]
  },
  {
   "cell_type": "code",
   "execution_count": 25,
   "id": "359a2749",
   "metadata": {},
   "outputs": [],
   "source": [
    "from transformers import TFAutoModel"
   ]
  },
  {
   "cell_type": "code",
   "execution_count": 26,
   "id": "1eddc0d8",
   "metadata": {},
   "outputs": [
    {
     "name": "stderr",
     "output_type": "stream",
     "text": [
      "Some weights of the PyTorch model were not used when initializing the TF 2.0 model TFBertModel: ['cls.predictions.decoder.weight', 'cls.predictions.decoder.bias', 'cls.predictions.transform.dense.weight', 'bert.embeddings.position_ids', 'cls.predictions.transform.dense.bias', 'cls.seq_relationship.bias', 'cls.predictions.transform.LayerNorm.bias', 'cls.seq_relationship.weight', 'cls.predictions.transform.LayerNorm.weight', 'cls.predictions.bias']\n",
      "- This IS expected if you are initializing TFBertModel from a PyTorch model trained on another task or with another architecture (e.g. initializing a TFBertForSequenceClassification model from a BertForPreTraining model).\n",
      "- This IS NOT expected if you are initializing TFBertModel from a PyTorch model that you expect to be exactly identical (e.g. initializing a TFBertForSequenceClassification model from a BertForSequenceClassification model).\n",
      "All the weights of TFBertModel were initialized from the PyTorch model.\n",
      "If your task is similar to the task the model of the checkpoint was trained on, you can already use TFBertModel for predictions without further training.\n"
     ]
    },
    {
     "name": "stdout",
     "output_type": "stream",
     "text": [
      "Model: \"tf_bert_model\"\n",
      "_________________________________________________________________\n",
      " Layer (type)                Output Shape              Param #   \n",
      "=================================================================\n",
      " bert (TFBertMainLayer)      multiple                  4385920   \n",
      "                                                                 \n",
      "=================================================================\n",
      "Total params: 4,385,920\n",
      "Trainable params: 4,385,920\n",
      "Non-trainable params: 0\n",
      "_________________________________________________________________\n"
     ]
    }
   ],
   "source": [
    "model= TFAutoModel.from_pretrained('prajjwal1/bert-tiny', from_pt=True)\n",
    "model.summary()"
   ]
  },
  {
   "cell_type": "markdown",
   "id": "e1b694f2",
   "metadata": {},
   "source": [
    "How many parameters do we have in our model? Try using the `model.num_parameters()` method to find out!"
   ]
  },
  {
   "cell_type": "code",
   "execution_count": 27,
   "id": "a8e64bbc",
   "metadata": {},
   "outputs": [
    {
     "data": {
      "text/plain": [
       "4385920"
      ]
     },
     "execution_count": 27,
     "metadata": {},
     "output_type": "execute_result"
    }
   ],
   "source": [
    "model.num_parameters()"
   ]
  },
  {
   "cell_type": "markdown",
   "id": "984adec1",
   "metadata": {},
   "source": [
    "To actually get anything out of our model, we need to pass it tensors because that is what it's expecting. With that in mind, let's try using our tokenizer again to create some tensors! Pass the example sentence from above (\"My tokenizers and model must match\") through your tokenizer again, only this time we're going to add a keyword argument:\n",
    "\n",
    "`return_tensors` should be set to `\"tf\"` <br>\n",
    "\n",
    "\n"
   ]
  },
  {
   "cell_type": "code",
   "execution_count": 28,
   "id": "19e863cd",
   "metadata": {},
   "outputs": [
    {
     "data": {
      "text/plain": [
       "{'input_ids': <tf.Tensor: shape=(1, 10), dtype=int32, numpy=\n",
       "array([[  101,  2026, 19204, 17629,  2015,  1998,  2944,  2442,  2674,\n",
       "          102]], dtype=int32)>, 'token_type_ids': <tf.Tensor: shape=(1, 10), dtype=int32, numpy=array([[0, 0, 0, 0, 0, 0, 0, 0, 0, 0]], dtype=int32)>, 'attention_mask': <tf.Tensor: shape=(1, 10), dtype=int32, numpy=array([[1, 1, 1, 1, 1, 1, 1, 1, 1, 1]], dtype=int32)>}"
      ]
     },
     "execution_count": 28,
     "metadata": {},
     "output_type": "execute_result"
    }
   ],
   "source": [
    "tokens= tokenizer('My tokenizers and model must match', return_tensors='tf')\n",
    "tokens"
   ]
  },
  {
   "cell_type": "markdown",
   "id": "9653f8f1",
   "metadata": {},
   "source": [
    "What do you get out? Check the `type` of the object and look inside it. You can even try casting it to a dictionary"
   ]
  },
  {
   "cell_type": "markdown",
   "id": "7731b6ed",
   "metadata": {},
   "source": [
    "We're now going to pass these into our `model`. Pass your `input_ids` into `model.predict()` method to see what embeddings the model predicts from your input tensor!\n"
   ]
  },
  {
   "cell_type": "code",
   "execution_count": 29,
   "id": "93c2c2bf",
   "metadata": {},
   "outputs": [],
   "source": [
    "import tensorflow as tf"
   ]
  },
  {
   "cell_type": "code",
   "execution_count": 30,
   "id": "1828001c",
   "metadata": {},
   "outputs": [
    {
     "data": {
      "text/plain": [
       "<tf.Tensor: shape=(1, 10), dtype=int32, numpy=\n",
       "array([[  101,  2026, 19204, 17629,  2015,  1998,  2944,  2442,  2674,\n",
       "          102]], dtype=int32)>"
      ]
     },
     "execution_count": 30,
     "metadata": {},
     "output_type": "execute_result"
    }
   ],
   "source": [
    "input_tensor= tf.expand_dims(tokens['input_ids'][0], axis=0)\n",
    "input_tensor"
   ]
  },
  {
   "cell_type": "code",
   "execution_count": 31,
   "id": "0a554e32",
   "metadata": {},
   "outputs": [
    {
     "name": "stdout",
     "output_type": "stream",
     "text": [
      "1/1 [==============================] - 3s 3s/step\n"
     ]
    },
    {
     "data": {
      "text/plain": [
       "TFBaseModelOutputWithPoolingAndCrossAttentions(last_hidden_state=array([[[-1.0925021 ,  0.29617235, -2.7343051 , ..., -1.4312216 ,\n",
       "         -0.7674911 ,  0.9217779 ],\n",
       "        [-1.3445785 ,  0.33559626,  0.3213455 , ..., -1.540538  ,\n",
       "         -1.8095936 ,  1.0475532 ],\n",
       "        [-0.98489296,  0.04832143, -0.5467527 , ..., -2.799297  ,\n",
       "         -0.73524225,  1.0017625 ],\n",
       "        ...,\n",
       "        [-1.015279  , -0.600632  ,  0.16942331, ..., -2.2654817 ,\n",
       "         -0.35893232,  0.8517032 ],\n",
       "        [-1.0218403 ,  0.17833784,  0.30888808, ..., -3.2006292 ,\n",
       "         -0.19717716,  0.784518  ],\n",
       "        [-1.2105337 , -0.37066615,  0.09570217, ..., -2.3225179 ,\n",
       "         -0.45315087,  0.73398167]]], dtype=float32), pooler_output=array([[-0.99999845,  0.14845254, -0.99738866,  0.8437214 , -0.998119  ,\n",
       "         0.35524368, -0.9906017 , -0.9661024 ,  0.0659069 , -0.00468243,\n",
       "        -0.87718135, -0.13842532,  0.01992583,  0.999998  ,  0.28008857,\n",
       "        -0.93008614,  0.9557761 ,  0.13612919, -0.4902352 ,  0.8863223 ,\n",
       "         0.9197249 ,  0.01463231,  0.7545295 ,  0.4690516 , -0.99996436,\n",
       "        -0.05142174, -0.99990296,  0.99385005,  0.99413747, -0.02918891,\n",
       "        -0.04512515, -0.07865062, -0.9602506 , -0.16622236,  0.9430657 ,\n",
       "         0.99989265, -0.99229866,  0.02063778,  0.88835   , -0.9986765 ,\n",
       "         0.9864048 ,  0.9673263 , -0.99868155,  0.96683985, -0.99948186,\n",
       "        -0.12354146, -0.9976358 ,  0.9973687 ,  0.93433195,  0.999456  ,\n",
       "         0.95803034, -0.96926427, -0.08693045,  0.99592197,  0.98747116,\n",
       "         0.9917087 , -0.9220002 , -0.97392654,  0.8264224 , -0.88890535,\n",
       "        -0.04906249,  0.97438425, -0.20632304,  0.96393096,  0.23193045,\n",
       "        -0.99999624, -0.4037703 ,  0.7460269 ,  0.46442845,  0.98609376,\n",
       "         0.99612576,  0.13521752, -0.99713933, -0.02061518,  0.87553376,\n",
       "        -0.9972055 , -0.47600693,  0.03683134, -0.9970088 , -0.03861885,\n",
       "        -0.61157745, -0.02648865, -0.7948519 , -0.9999898 ,  0.99981076,\n",
       "        -0.963995  ,  0.37135708, -0.89717776, -0.10124741,  0.97944254,\n",
       "        -0.6142543 ,  0.97270536, -0.9653734 ,  0.9973331 ,  0.62785167,\n",
       "         0.5345909 , -0.96314734, -0.5633751 , -0.9998804 , -0.9720975 ,\n",
       "        -0.9964636 ,  0.9246833 , -0.99948186, -0.5191115 , -0.980699  ,\n",
       "        -0.92281795, -0.9988792 , -0.98673886,  0.5061325 ,  0.9905134 ,\n",
       "         0.998339  ,  0.79206353, -0.7003644 ,  0.99283016, -0.99997705,\n",
       "         0.00903466, -0.10888498,  0.44102576,  0.17472355, -0.9969749 ,\n",
       "         0.14546002, -0.9998989 , -0.8770961 ,  0.7402193 , -0.9998069 ,\n",
       "         0.98262507,  0.98324466,  0.9903586 ]], dtype=float32), past_key_values=None, hidden_states=None, attentions=None, cross_attentions=None)"
      ]
     },
     "execution_count": 31,
     "metadata": {},
     "output_type": "execute_result"
    }
   ],
   "source": [
    "outputs= model.predict(input_tensor)\n",
    "outputs"
   ]
  },
  {
   "cell_type": "code",
   "execution_count": 32,
   "id": "ce255840",
   "metadata": {},
   "outputs": [
    {
     "data": {
      "text/plain": [
       "TensorShape([1, 10])"
      ]
     },
     "execution_count": 32,
     "metadata": {},
     "output_type": "execute_result"
    }
   ],
   "source": [
    "input_tensor.shape"
   ]
  },
  {
   "cell_type": "markdown",
   "id": "33f8eaa9",
   "metadata": {},
   "source": [
    "The part we care about most is the `last_hidden_state` array from our prediction. This contains all of our embeddings from the final layer of the BERT model. What is its shape? What does each aspect of the shape signify?"
   ]
  },
  {
   "cell_type": "code",
   "execution_count": 33,
   "id": "d295482e",
   "metadata": {},
   "outputs": [
    {
     "data": {
      "text/plain": [
       "(1, 10, 128)"
      ]
     },
     "execution_count": 33,
     "metadata": {},
     "output_type": "execute_result"
    }
   ],
   "source": [
    "outputs.last_hidden_state.shape"
   ]
  },
  {
   "cell_type": "markdown",
   "id": "a30894e9",
   "metadata": {},
   "source": [
    "You should have a shape of __(1, 10, 128)__. Why? \n",
    "\n",
    "The batch size is 1.\n",
    "We have 10 tokens. \n",
    "Each token has a 128-long embeddings since Tiny Bert has a \"hidden size\" of 128 which means it'll create embeddings of that size."
   ]
  },
  {
   "cell_type": "markdown",
   "id": "eb0ef558",
   "metadata": {},
   "source": [
    "Run the cell below to load up `bert-small` instead of `tiny-bert` and check the model description you see listed on HuggingFace. You should see a different \"hidden_dimension\" size reflected in the embeddings you get out when you `.predict()` on the same sentence."
   ]
  },
  {
   "cell_type": "code",
   "execution_count": 34,
   "id": "4e8d9eab",
   "metadata": {},
   "outputs": [
    {
     "name": "stderr",
     "output_type": "stream",
     "text": [
      "Some weights of the PyTorch model were not used when initializing the TF 2.0 model TFBertModel: ['cls.predictions.transform.dense.bias', 'cls.predictions.transform.LayerNorm.bias', 'cls.predictions.transform.LayerNorm.weight', 'cls.predictions.bias', 'bert.embeddings.position_ids', 'cls.seq_relationship.weight', 'cls.predictions.decoder.weight', 'cls.seq_relationship.bias', 'cls.predictions.decoder.bias', 'cls.predictions.transform.dense.weight']\n",
      "- This IS expected if you are initializing TFBertModel from a PyTorch model trained on another task or with another architecture (e.g. initializing a TFBertForSequenceClassification model from a BertForPreTraining model).\n",
      "- This IS NOT expected if you are initializing TFBertModel from a PyTorch model that you expect to be exactly identical (e.g. initializing a TFBertForSequenceClassification model from a BertForSequenceClassification model).\n",
      "All the weights of TFBertModel were initialized from the PyTorch model.\n",
      "If your task is similar to the task the model of the checkpoint was trained on, you can already use TFBertModel for predictions without further training.\n"
     ]
    },
    {
     "name": "stdout",
     "output_type": "stream",
     "text": [
      "1/1 [==============================] - 1s 908ms/step\n"
     ]
    },
    {
     "data": {
      "text/plain": [
       "(1, 10, 512)"
      ]
     },
     "execution_count": 34,
     "metadata": {},
     "output_type": "execute_result"
    }
   ],
   "source": [
    "small_model = TFAutoModel.from_pretrained(\"prajjwal1/bert-small\", from_pt = True)\n",
    "small_model.predict(input_tensor).last_hidden_state.shape"
   ]
  },
  {
   "cell_type": "markdown",
   "id": "388a9de8",
   "metadata": {},
   "source": [
    "When we're using our embeddings as a feature, we usually don't need to take out all 10 tokens out - we usually just take the first token (the `[CLS]` token that gets inserted for us) out instead - this should contain most of the information from our full sentence. With that in mind, select just the final token from your `bert_tiny` embeddings. It should have shape (1, 128)"
   ]
  },
  {
   "cell_type": "code",
   "execution_count": 67,
   "id": "daeb8c22",
   "metadata": {
    "collapsed": true
   },
   "outputs": [
    {
     "data": {
      "text/plain": [
       "array([[-1.0925021 ,  0.29617235, -2.7343051 , -2.2203484 ,  0.2302205 ,\n",
       "         1.4071054 , -0.2047798 ,  1.335129  , -0.2827275 ,  0.20631815,\n",
       "        -0.73093116,  1.1392698 , -0.82592785,  1.0474565 ,  1.6219755 ,\n",
       "        -0.51183206, -0.61848944, -0.5063367 , -1.7092572 ,  1.2861506 ,\n",
       "         0.01437919, -0.95187956,  1.9190152 , -0.09677979,  1.6345795 ,\n",
       "        -0.65476596, -0.05932965,  0.8851405 , -0.06017072,  0.04003938,\n",
       "        -1.0718913 , -1.4089686 , -1.9967726 , -0.05314662,  0.13098368,\n",
       "        -1.9281592 , -0.530232  , -1.2534158 , -1.5812123 , -1.1570289 ,\n",
       "         0.14575572, -0.00787837,  1.9595453 , -0.8199371 , -0.00376356,\n",
       "        -1.9050608 ,  1.1575568 , -0.97217214,  0.12068213, -0.44845968,\n",
       "         0.04000355,  2.1770945 ,  0.52306753, -0.24064335,  0.0562015 ,\n",
       "        -0.37357658,  0.38304362, -0.10185967, -0.87340087,  3.0557742 ,\n",
       "         1.548567  , -0.7458633 , -0.6536311 , -2.119369  , -1.4256177 ,\n",
       "         0.30889928, -0.2581733 ,  0.50396174,  0.775414  , -0.9595283 ,\n",
       "        -0.7481966 ,  0.16443235,  0.7789581 ,  0.5329003 , -1.028502  ,\n",
       "         1.2439107 ,  1.0956197 ,  1.8177938 ,  0.49874064, -0.4685367 ,\n",
       "         0.42222428, -0.05817775,  0.5672297 ,  1.2436045 , -0.43541527,\n",
       "        -0.39577413, -0.41845483, -1.2873756 ,  1.9907684 , -2.11589   ,\n",
       "         0.59714663, -0.18469717,  0.02524406,  0.22124559,  1.0549996 ,\n",
       "         2.6638825 ,  0.05908608,  0.6724445 ,  0.6278284 ,  0.50190246,\n",
       "        -0.53177637,  0.14109144,  0.34177   ,  0.18568137,  1.2276322 ,\n",
       "        -1.1565847 , -0.08824312,  0.2751675 ,  0.36983287, -1.992359  ,\n",
       "        -1.4345354 ,  0.5651983 ,  0.8766563 ,  0.12166496, -0.53159446,\n",
       "         1.3173791 , -0.34726116, -2.2643542 ,  0.9198456 , -0.91999596,\n",
       "        -0.5521138 , -0.6097822 ,  0.87095404, -0.64873993, -2.4909482 ,\n",
       "        -1.4312216 , -0.7674911 ,  0.9217779 ]], dtype=float32)"
      ]
     },
     "execution_count": 67,
     "metadata": {},
     "output_type": "execute_result"
    }
   ],
   "source": [
    "outputs.last_hidden_state[:,0,:]"
   ]
  },
  {
   "cell_type": "markdown",
   "id": "ec5b0e36",
   "metadata": {},
   "source": [
    "### Tokenizing all our sentences"
   ]
  },
  {
   "cell_type": "markdown",
   "id": "9a276110",
   "metadata": {},
   "source": [
    "We want to tokenize all of the cells in our \"text\" column at once. Before we do though, we need to think about padding. Because we're using subwork tokenization, we can't simply pad/ truncate our words when they are written out in full text. For example:\n",
    "\n",
    "\"Transformer models do a lot of good things\"\n",
    "\n",
    "\"Although indubitably complex, Transformers outperform countless other models\"\n",
    "\n",
    "Both of these sentence are 8 words long. But when we use subword tokenization, the second one will be split into more tokens, since it contains much longer words."
   ]
  },
  {
   "cell_type": "markdown",
   "id": "ef787828",
   "metadata": {},
   "source": [
    "Check the length of both of these sentences tokenized to provide this to yourself."
   ]
  },
  {
   "cell_type": "code",
   "execution_count": 36,
   "id": "346c867c",
   "metadata": {},
   "outputs": [
    {
     "name": "stdout",
     "output_type": "stream",
     "text": [
      "11\n",
      "16\n"
     ]
    }
   ],
   "source": [
    "sent1_toks = tokenizer(\"Transformer models do a lot of good things\")\n",
    "\n",
    "sent2_toks = tokenizer(\"Although indubitably complex, Transformers outperform countless other models\")\n",
    "\n",
    "print(len(sent1_toks[\"input_ids\"]))\n",
    "print(len(sent2_toks[\"input_ids\"]))\n"
   ]
  },
  {
   "cell_type": "markdown",
   "id": "acac1667",
   "metadata": {},
   "source": [
    "We want to see how long our tokenized sentences will all be, then we can make a decision about how we should pad/ truncate our sentences."
   ]
  },
  {
   "cell_type": "markdown",
   "id": "7f67da5e",
   "metadata": {},
   "source": [
    "We'll need to go through each sentence in our DataFrame and see how long it is when tokenized (we can do this by mapping/ applying a function on our DataFrame that tokenizes our sentences). Then we can simply do a quick histogram to see what our varying lengths look like."
   ]
  },
  {
   "cell_type": "code",
   "execution_count": 37,
   "id": "c693f605",
   "metadata": {},
   "outputs": [
    {
     "data": {
      "text/plain": [
       "<AxesSubplot:>"
      ]
     },
     "execution_count": 37,
     "metadata": {},
     "output_type": "execute_result"
    },
    {
     "data": {
      "image/png": "[encoded data removed]",
      "text/plain": [
       "<Figure size 640x480 with 1 Axes>"
      ]
     },
     "metadata": {},
     "output_type": "display_data"
    }
   ],
   "source": [
    "df[\"tokenized\"] = df[\"text\"].map(lambda x: tokenizer(x)[\"input_ids\"])\n",
    "\n",
    "df[\"len_tokenized\"] = df[\"tokenized\"].map(lambda x: len(x))\n",
    "\n",
    "df[\"len_tokenized\"].hist()"
   ]
  },
  {
   "cell_type": "markdown",
   "id": "f7ac4094",
   "metadata": {},
   "source": [
    "Looking at our histogram, 500 seems like a reasonable choice."
   ]
  },
  {
   "cell_type": "markdown",
   "id": "46846e82",
   "metadata": {},
   "source": [
    "Let's go ahead and tokenize our column - specify your `\"max_length\"` as 500 and make sure you enable padding as you call your tokenizer. To get this to work properly, you'll also need to set a value of `True` for the `truncation` arguments and you'll need to make sure you set `padding` equal to `\"max_length\"`. To ensure the model gets the right kind of input, you will have to add `.tolist()` when you pass your column into your tokenizer."
   ]
  },
  {
   "cell_type": "code",
   "execution_count": 38,
   "id": "782be657",
   "metadata": {},
   "outputs": [],
   "source": [
    "tokenized_tensors= tokenizer(df['text'].tolist(), max_length=500, padding='max_length', truncation=True,return_tensors='tf')"
   ]
  },
  {
   "cell_type": "markdown",
   "id": "98044a10",
   "metadata": {},
   "source": [
    "What do we get out? What shape do its components have?\n"
   ]
  },
  {
   "cell_type": "code",
   "execution_count": 39,
   "id": "997b7624",
   "metadata": {},
   "outputs": [
    {
     "data": {
      "text/plain": [
       "TensorShape([8000, 500])"
      ]
     },
     "execution_count": 39,
     "metadata": {},
     "output_type": "execute_result"
    }
   ],
   "source": [
    "tokenized_tensors['input_ids'].shape"
   ]
  },
  {
   "cell_type": "markdown",
   "id": "4e8a077d",
   "metadata": {},
   "source": [
    "Again, we're just interested in our `input_ids` for now (we won't worry about the attention mask). So grab those and use `model.predict()` to see what embeddings we get out for all of our tokenized sentences."
   ]
  },
  {
   "cell_type": "code",
   "execution_count": 40,
   "id": "e59a3f88",
   "metadata": {},
   "outputs": [
    {
     "name": "stdout",
     "output_type": "stream",
     "text": [
      "250/250 [==============================] - 59s 233ms/step\n"
     ]
    }
   ],
   "source": [
    "embeddings= model.predict(tokenized_tensors['input_ids'])"
   ]
  },
  {
   "cell_type": "code",
   "execution_count": 41,
   "id": "51ce38f8",
   "metadata": {},
   "outputs": [
    {
     "data": {
      "text/plain": [
       "(8000, 500, 128)"
      ]
     },
     "execution_count": 41,
     "metadata": {},
     "output_type": "execute_result"
    }
   ],
   "source": [
    "embeddings.last_hidden_state.shape"
   ]
  },
  {
   "cell_type": "markdown",
   "id": "255e4154",
   "metadata": {},
   "source": [
    "### Reducing our data"
   ]
  },
  {
   "cell_type": "markdown",
   "id": "cad08562",
   "metadata": {},
   "source": [
    "We finally have all of our sentence embeddings - 128 numbers to express each of our words in their context. This might be quite a lot of data for a model to process (especially if we were to scale up) so we'll simply take the embedding corresponding to the `[CLS]` token (i.e. the first token of your sequence). \n",
    "\n",
    "\n",
    "<img src = \"https://wagon-public-datasets.s3.amazonaws.com/data-science-images/lectures/Transformers/CLS_token_explanation.png\"> Select this column from your `last_hidden_state` and assign it to `X` since this is what we're going to use in our Classification Neural Network. "
   ]
  },
  {
   "cell_type": "code",
   "execution_count": 42,
   "id": "c3fb2218",
   "metadata": {},
   "outputs": [],
   "source": [
    "X= embeddings.last_hidden_state[:,0,:]"
   ]
  },
  {
   "cell_type": "code",
   "execution_count": 43,
   "id": "ceab19cf",
   "metadata": {},
   "outputs": [
    {
     "data": {
      "text/plain": [
       "(8000, 128)"
      ]
     },
     "execution_count": 43,
     "metadata": {},
     "output_type": "execute_result"
    }
   ],
   "source": [
    "X.shape"
   ]
  },
  {
   "cell_type": "markdown",
   "id": "5b9a5e8b",
   "metadata": {},
   "source": [
    "Now, create a train-test split, and train a simple Dense Network to classify between positive and negative reviews. Train it, then evaluate your model on the test set. What kind of accuracy do you get?"
   ]
  },
  {
   "cell_type": "code",
   "execution_count": 44,
   "id": "6227e1c5",
   "metadata": {},
   "outputs": [],
   "source": [
    "from sklearn.model_selection import train_test_split\n",
    "from tensorflow.keras import Sequential\n",
    "from tensorflow.keras.layers import Dense, Flatten"
   ]
  },
  {
   "cell_type": "code",
   "execution_count": 45,
   "id": "253e0e81",
   "metadata": {},
   "outputs": [],
   "source": [
    "X_train, X_test, y_train, y_test= train_test_split(X, df['label'])"
   ]
  },
  {
   "cell_type": "code",
   "execution_count": 46,
   "id": "b6cbaeaf",
   "metadata": {},
   "outputs": [],
   "source": [
    "input_shape= (128,)\n",
    "dens_model= Sequential()\n",
    "dens_model.add(Dense(256, activation='relu', input_shape= input_shape))\n",
    "dens_model.add(Flatten())\n",
    "dens_model.add(Dense(1, activation='sigmoid'))\n",
    "\n",
    "dens_model.compile(loss= 'binary_crossentropy', optimizer= 'adam', metrics='accuracy')"
   ]
  },
  {
   "cell_type": "code",
   "execution_count": 47,
   "id": "0e2c5bd2",
   "metadata": {},
   "outputs": [
    {
     "name": "stdout",
     "output_type": "stream",
     "text": [
      "Model: \"sequential\"\n",
      "_________________________________________________________________\n",
      " Layer (type)                Output Shape              Param #   \n",
      "=================================================================\n",
      " dense (Dense)               (None, 256)               33024     \n",
      "                                                                 \n",
      " flatten (Flatten)           (None, 256)               0         \n",
      "                                                                 \n",
      " dense_1 (Dense)             (None, 1)                 257       \n",
      "                                                                 \n",
      "=================================================================\n",
      "Total params: 33,281\n",
      "Trainable params: 33,281\n",
      "Non-trainable params: 0\n",
      "_________________________________________________________________\n"
     ]
    }
   ],
   "source": [
    "dens_model.summary()"
   ]
  },
  {
   "cell_type": "code",
   "execution_count": 48,
   "id": "0bfd06ef",
   "metadata": {},
   "outputs": [
    {
     "name": "stdout",
     "output_type": "stream",
     "text": [
      "Epoch 1/20\n",
      "150/150 [==============================] - 3s 3ms/step - loss: 0.6096 - accuracy: 0.6581 - val_loss: 0.6157 - val_accuracy: 0.6717\n",
      "Epoch 2/20\n",
      "150/150 [==============================] - 0s 2ms/step - loss: 0.5518 - accuracy: 0.7154 - val_loss: 0.5429 - val_accuracy: 0.7292\n",
      "Epoch 3/20\n",
      "150/150 [==============================] - 0s 2ms/step - loss: 0.5361 - accuracy: 0.7348 - val_loss: 0.5384 - val_accuracy: 0.7283\n",
      "Epoch 4/20\n",
      "150/150 [==============================] - 0s 2ms/step - loss: 0.5291 - accuracy: 0.7354 - val_loss: 0.5529 - val_accuracy: 0.7192\n",
      "Epoch 5/20\n",
      "150/150 [==============================] - 0s 2ms/step - loss: 0.5186 - accuracy: 0.7498 - val_loss: 0.5701 - val_accuracy: 0.7083\n",
      "Epoch 6/20\n",
      "150/150 [==============================] - 0s 1ms/step - loss: 0.5192 - accuracy: 0.7390 - val_loss: 0.5420 - val_accuracy: 0.7233\n",
      "Epoch 7/20\n",
      "150/150 [==============================] - 0s 2ms/step - loss: 0.5096 - accuracy: 0.7454 - val_loss: 0.5255 - val_accuracy: 0.7450\n",
      "Epoch 8/20\n",
      "150/150 [==============================] - 0s 2ms/step - loss: 0.4965 - accuracy: 0.7631 - val_loss: 0.5590 - val_accuracy: 0.7217\n",
      "Epoch 9/20\n",
      "150/150 [==============================] - 0s 3ms/step - loss: 0.4951 - accuracy: 0.7560 - val_loss: 0.5728 - val_accuracy: 0.7133\n",
      "Epoch 10/20\n",
      "150/150 [==============================] - 1s 4ms/step - loss: 0.4872 - accuracy: 0.7573 - val_loss: 0.5278 - val_accuracy: 0.7417\n",
      "Epoch 11/20\n",
      "150/150 [==============================] - 1s 4ms/step - loss: 0.4770 - accuracy: 0.7694 - val_loss: 0.5425 - val_accuracy: 0.7367\n",
      "Epoch 12/20\n",
      "150/150 [==============================] - 1s 5ms/step - loss: 0.4735 - accuracy: 0.7692 - val_loss: 0.5342 - val_accuracy: 0.7425\n",
      "Epoch 13/20\n",
      "150/150 [==============================] - 1s 5ms/step - loss: 0.4591 - accuracy: 0.7777 - val_loss: 0.5434 - val_accuracy: 0.7367\n",
      "Epoch 14/20\n",
      "150/150 [==============================] - 1s 5ms/step - loss: 0.4570 - accuracy: 0.7815 - val_loss: 0.5678 - val_accuracy: 0.7258\n",
      "Epoch 15/20\n",
      "150/150 [==============================] - 1s 4ms/step - loss: 0.4502 - accuracy: 0.7875 - val_loss: 0.5217 - val_accuracy: 0.7400\n",
      "Epoch 16/20\n",
      "150/150 [==============================] - 1s 4ms/step - loss: 0.4438 - accuracy: 0.7931 - val_loss: 0.5342 - val_accuracy: 0.7417\n",
      "Epoch 17/20\n",
      "150/150 [==============================] - 1s 4ms/step - loss: 0.4339 - accuracy: 0.7929 - val_loss: 0.5400 - val_accuracy: 0.7400\n",
      "Epoch 18/20\n",
      "150/150 [==============================] - 1s 5ms/step - loss: 0.4282 - accuracy: 0.7975 - val_loss: 0.5576 - val_accuracy: 0.7250\n",
      "Epoch 19/20\n",
      "150/150 [==============================] - 1s 4ms/step - loss: 0.4160 - accuracy: 0.8090 - val_loss: 0.5419 - val_accuracy: 0.7458\n",
      "Epoch 20/20\n",
      "150/150 [==============================] - 1s 4ms/step - loss: 0.4067 - accuracy: 0.8156 - val_loss: 0.5598 - val_accuracy: 0.7358\n"
     ]
    },
    {
     "data": {
      "text/plain": [
       "<keras.callbacks.History at 0x7f21d62f3b50>"
      ]
     },
     "execution_count": 48,
     "metadata": {},
     "output_type": "execute_result"
    }
   ],
   "source": [
    "dens_model.fit(X_train, y_train, validation_split=0.2, epochs= 20)"
   ]
  },
  {
   "cell_type": "code",
   "execution_count": 49,
   "id": "d91fbcae",
   "metadata": {},
   "outputs": [
    {
     "name": "stdout",
     "output_type": "stream",
     "text": [
      "63/63 [==============================] - 0s 1ms/step - loss: 0.5741 - accuracy: 0.7300\n"
     ]
    },
    {
     "data": {
      "text/plain": [
       "[0.5740604996681213, 0.7300000190734863]"
      ]
     },
     "execution_count": 49,
     "metadata": {},
     "output_type": "execute_result"
    }
   ],
   "source": [
    "dens_model.evaluate(X_test, y_test)"
   ]
  },
  {
   "cell_type": "markdown",
   "id": "8e516255",
   "metadata": {},
   "source": [
    "Looks like we get around 70% which isn't too bad, but could we do any better?"
   ]
  },
  {
   "cell_type": "markdown",
   "id": "f91d05d8",
   "metadata": {},
   "source": [
    "### Fine tuning a BERT model for our task"
   ]
  },
  {
   "cell_type": "markdown",
   "id": "0fc2db10",
   "metadata": {},
   "source": [
    "In the first part of our exercise, we've just been passing our data through a pre-trained BERT model. That means that we've just been using the weights that were achieved by training the model on its training dataset, but the interpretation that the BERT model might have for each word could be different - consider the following words:\n",
    "\n",
    "\"The direction was completely unique\"\n",
    "\n",
    "This sentence might mean very different things (and thus give different embeddings) to a model that has been trained on text about the weather (e.g. the model might interpret this as something to do with the \"direction\" of the wind or an ocean current). But means something completely different when it comes to talking about the \"direction\" of a film director. We're dealing with a dataset about movies and that may contain a lot of words and concepts that are very unfamiliar to our regular BERT model.\n",
    "\n",
    "So we have a problem! The embeddings that we're getting out may not be suited too well to our task so we're limited in how well our model can interpret our words since we we're stuck with potentially unhelpful embeddings.\n",
    "\n",
    "But what if we could let the model learn as it goes? What if we could take those existing, excellent weights and change them __slightly__ so that they perform perfectly for our task at hand?\n",
    "\n"
   ]
  },
  {
   "cell_type": "markdown",
   "id": "edf4b7ff",
   "metadata": {},
   "source": [
    "\n",
    "\n",
    "<img src = \"https://wagon-public-datasets.s3.amazonaws.com/data-science-images/lectures/Transformers/bert_weight_updating_2.png\">\n",
    "\n",
    "This is exactly what __fine-tuning__ is and HuggingFace makes it really easy 😇\n",
    "\n",
    "Create another `tiny-bert` model, loading it up with [`TFAutoModelForSequenceClassification`](https://huggingface.co/transformers/v3.0.2/model_doc/auto.html#tfautomodelforsequenceclassification) this time instead. "
   ]
  },
  {
   "cell_type": "code",
   "execution_count": 50,
   "id": "d52e723a",
   "metadata": {},
   "outputs": [],
   "source": [
    "from transformers import TFAutoModelForSequenceClassification"
   ]
  },
  {
   "cell_type": "code",
   "execution_count": 58,
   "id": "9150d0bd",
   "metadata": {},
   "outputs": [
    {
     "name": "stderr",
     "output_type": "stream",
     "text": [
      "Some weights of the PyTorch model were not used when initializing the TF 2.0 model TFBertForSequenceClassification: ['bert.embeddings.position_ids']\n",
      "- This IS expected if you are initializing TFBertForSequenceClassification from a PyTorch model trained on another task or with another architecture (e.g. initializing a TFBertForSequenceClassification model from a BertForPreTraining model).\n",
      "- This IS NOT expected if you are initializing TFBertForSequenceClassification from a PyTorch model that you expect to be exactly identical (e.g. initializing a TFBertForSequenceClassification model from a BertForSequenceClassification model).\n",
      "Some weights or buffers of the TF 2.0 model TFBertForSequenceClassification were not initialized from the PyTorch model and are newly initialized: ['classifier.weight', 'classifier.bias']\n",
      "You should probably TRAIN this model on a down-stream task to be able to use it for predictions and inference.\n"
     ]
    }
   ],
   "source": [
    "tuning_model= TFAutoModelForSequenceClassification.from_pretrained('prajjwal1/bert-tiny', from_pt=True)"
   ]
  },
  {
   "cell_type": "markdown",
   "id": "506e9cbc",
   "metadata": {},
   "source": [
    "All we need to do is pass in our tensors that represent out tokenized sentences that we created earlier. We can split off 20% of our data for our test. Then pass our tensors of tokens and our labels straight into our model."
   ]
  },
  {
   "cell_type": "code",
   "execution_count": 59,
   "id": "dc2adc32",
   "metadata": {},
   "outputs": [
    {
     "data": {
      "text/plain": [
       "TensorShape([8000, 500])"
      ]
     },
     "execution_count": 59,
     "metadata": {},
     "output_type": "execute_result"
    }
   ],
   "source": [
    "tokenized_tensors['input_ids'].shape"
   ]
  },
  {
   "cell_type": "code",
   "execution_count": 60,
   "id": "95922554",
   "metadata": {},
   "outputs": [],
   "source": [
    "X_train= tokenized_tensors['input_ids'][:6400]\n",
    "X_test= tokenized_tensors['input_ids'][6400:]\n",
    "y_train= df['label'][:6400]\n",
    "y_test= df['label'][6400:]"
   ]
  },
  {
   "cell_type": "markdown",
   "id": "5c8ed9d5",
   "metadata": {},
   "source": [
    "Set a very low number of epochs for your training such as 3 or 5 - why? Well now we're updating over __4 million weights at once__ which takes a lot of time and computational power. 😮‍💨 Much more than the small Dense network we put on top of our X and y in the first half of the exercise. We should see good results after only a few epochs, though! \n",
    "\n",
    "\n",
    "While you wait for training to finish, you can take the time to dig a little deeper into [BERT's architecture](https://jalammar.github.io/illustrated-bert/). \n"
   ]
  },
  {
   "cell_type": "code",
   "execution_count": 61,
   "id": "e228d3f6",
   "metadata": {},
   "outputs": [],
   "source": [
    "tuning_model.compile(optimizer= \"adam\", metrics= \"accuracy\")"
   ]
  },
  {
   "cell_type": "code",
   "execution_count": 62,
   "id": "66311fb6",
   "metadata": {},
   "outputs": [
    {
     "name": "stdout",
     "output_type": "stream",
     "text": [
      "Epoch 1/5\n",
      "200/200 [==============================] - 231s 1s/step - loss: 0.6221 - accuracy: 0.6212 - val_loss: 0.5110 - val_accuracy: 0.7769\n",
      "Epoch 2/5\n",
      "200/200 [==============================] - 209s 1s/step - loss: 0.4045 - accuracy: 0.8273 - val_loss: 0.3974 - val_accuracy: 0.8275\n",
      "Epoch 3/5\n",
      "200/200 [==============================] - 266s 1s/step - loss: 0.2430 - accuracy: 0.9028 - val_loss: 0.3946 - val_accuracy: 0.8413\n",
      "Epoch 4/5\n",
      "200/200 [==============================] - 231s 1s/step - loss: 0.0995 - accuracy: 0.9694 - val_loss: 0.6475 - val_accuracy: 0.8156\n",
      "Epoch 5/5\n",
      "200/200 [==============================] - 235s 1s/step - loss: 0.0452 - accuracy: 0.9866 - val_loss: 0.5539 - val_accuracy: 0.8400\n"
     ]
    },
    {
     "data": {
      "text/plain": [
       "<keras.callbacks.History at 0x7f1ff547f280>"
      ]
     },
     "execution_count": 62,
     "metadata": {},
     "output_type": "execute_result"
    }
   ],
   "source": [
    "tuning_model.fit(tokenized_tensors[\"input_ids\"], df[\"label\"], validation_split=0.2, batch_size=32, epochs=5)"
   ]
  },
  {
   "cell_type": "code",
   "execution_count": 55,
   "id": "7579bc66",
   "metadata": {},
   "outputs": [
    {
     "name": "stdout",
     "output_type": "stream",
     "text": [
      "Model: \"tf_bert_for_sequence_classification\"\n",
      "_________________________________________________________________\n",
      " Layer (type)                Output Shape              Param #   \n",
      "=================================================================\n",
      " bert (TFBertMainLayer)      multiple                  4385920   \n",
      "                                                                 \n",
      " dropout_27 (Dropout)        multiple                  0         \n",
      "                                                                 \n",
      " classifier (Dense)          multiple                  258       \n",
      "                                                                 \n",
      "=================================================================\n",
      "Total params: 4,386,178\n",
      "Trainable params: 4,386,178\n",
      "Non-trainable params: 0\n",
      "_________________________________________________________________\n"
     ]
    }
   ],
   "source": [
    "tuning_model.summary()"
   ]
  },
  {
   "cell_type": "markdown",
   "id": "97655f7a",
   "metadata": {},
   "source": [
    "Once your model has trained for a few epochs, try increasing your learning rate by switching your optimizer. Simply instantiate an instance of the Adam class from `tf.keras.optimizers` and try increasing it from the default. \n",
    "\n",
    "When we're working with such enormous models, updating weights can take a very long time but increasing our learning rate should yield better results much faster. "
   ]
  },
  {
   "cell_type": "code",
   "execution_count": 56,
   "id": "e4ba68a7",
   "metadata": {},
   "outputs": [
    {
     "name": "stderr",
     "output_type": "stream",
     "text": [
      "Some weights of the PyTorch model were not used when initializing the TF 2.0 model TFBertForSequenceClassification: ['bert.embeddings.position_ids']\n",
      "- This IS expected if you are initializing TFBertForSequenceClassification from a PyTorch model trained on another task or with another architecture (e.g. initializing a TFBertForSequenceClassification model from a BertForPreTraining model).\n",
      "- This IS NOT expected if you are initializing TFBertForSequenceClassification from a PyTorch model that you expect to be exactly identical (e.g. initializing a TFBertForSequenceClassification model from a BertForSequenceClassification model).\n",
      "Some weights or buffers of the TF 2.0 model TFBertForSequenceClassification were not initialized from the PyTorch model and are newly initialized: ['classifier.weight', 'classifier.bias']\n",
      "You should probably TRAIN this model on a down-stream task to be able to use it for predictions and inference.\n"
     ]
    }
   ],
   "source": [
    "optimizer = tf.optimizers.Adam(learning_rate=0.1)\n",
    "fast_model = TFAutoModelForSequenceClassification.from_pretrained(\"prajjwal1/bert-tiny\", from_pt = True)\n",
    "\n",
    "fast_model.compile(optimizer= optimizer, metrics= \"accuracy\")\n"
   ]
  },
  {
   "cell_type": "code",
   "execution_count": 57,
   "id": "3f537773",
   "metadata": {},
   "outputs": [
    {
     "name": "stdout",
     "output_type": "stream",
     "text": [
      "Epoch 1/2\n",
      "200/200 [==============================] - 168s 831ms/step - loss: 1.2096 - accuracy: 0.5053 - val_loss: 0.9451 - val_accuracy: 0.5019\n",
      "Epoch 2/2\n",
      "200/200 [==============================] - 210s 1s/step - loss: 1.4039 - accuracy: 0.4908 - val_loss: 1.2754 - val_accuracy: 0.4981\n"
     ]
    },
    {
     "data": {
      "text/plain": [
       "<keras.callbacks.History at 0x7f21a0e79f30>"
      ]
     },
     "execution_count": 57,
     "metadata": {},
     "output_type": "execute_result"
    }
   ],
   "source": [
    "fast_model.fit(tokenized_tensors[\"input_ids\"], df[\"label\"], validation_split=0.2, batch_size=32, epochs=2)"
   ]
  },
  {
   "cell_type": "markdown",
   "id": "f9ef36c2",
   "metadata": {},
   "source": [
    "Evaluate your results on your test set! You should see that when we take the tune a model __specifically__ for our task, we get better results even after just 3-4 epochs of training."
   ]
  },
  {
   "cell_type": "markdown",
   "id": "8042aea5",
   "metadata": {},
   "source": [
    "Congratulations! You've just fine-tuned your own LLM 🎉🎉🎉\n",
    "\n",
    "### Some important notes:\n",
    "\n",
    "- We're getting good results with this model but this is a *tiny* version of BERT. If we increased the size of our model and if we used our full dataset (rather than just 5000 samples), we might get even better results. \n",
    "\n",
    "- One downside of fine-tuning (as you have seen) is that it can take a LOT of computational power to carry out. Imagine how much more it might take if we didn't start off with our transfer-learned weights.\n",
    "\n",
    "- Because of that, in can be important to consider other options first - if you'd like, try training a regular ML Tfidf model and you may be surprised how good the results are. When we're dealing with tasks like classification, __ML will often do a pretty good job with much less compute!__\n",
    "\n",
    "- That said, there are a __very wide__ range of use cases for BERT-style models - we've only done classification here! Look around HuggingFace and you'll see all sorts of fine-tuned BERTs for specific domains (e.g. Finance, medicine or Twitter) and different tasks (some that ML can't help us with)\n",
    "\n",
    "- Each BERT model can be fine-tuned as long as you take the proper time to structure your data correctly (especially using Data Loaders like the Tensorflow Dataset if your data is very large). \n",
    "\n",
    "Now that you've seen what can be done with an encoder-style model, it's time to see what a decoder-style model looks like 🚀"
   ]
  }
 ],
 "metadata": {
  "kernelspec": {
   "display_name": "Python 3 (ipykernel)",
   "language": "python",
   "name": "python3"
  },
  "language_info": {
   "codemirror_mode": {
    "name": "ipython",
    "version": 3
   },
   "file_extension": ".py",
   "mimetype": "text/x-python",
   "name": "python",
   "nbconvert_exporter": "python",
   "pygments_lexer": "ipython3",
   "version": "3.10.6"
  },
  "toc": {
   "base_numbering": 1,
   "nav_menu": {},
   "number_sections": true,
   "sideBar": true,
   "skip_h1_title": false,
   "title_cell": "Table of Contents",
   "title_sidebar": "Contents",
   "toc_cell": false,
   "toc_position": {},
   "toc_section_display": true,
   "toc_window_display": false
  }
 },
 "nbformat": 4,
 "nbformat_minor": 5
}
